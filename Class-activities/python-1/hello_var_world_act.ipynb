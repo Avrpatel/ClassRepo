{
 "cells": [
  {
   "cell_type": "code",
   "execution_count": 8,
   "id": "0d58e763-2105-436a-9853-8963aca017fc",
   "metadata": {},
   "outputs": [
    {
     "name": "stdout",
     "output_type": "stream",
     "text": [
      "The increase is $55.45\n",
      "The precent increase is $27.88\n",
      "Apple's original stock price was $198.87\n",
      "Apples current stock price is $254.32\n"
     ]
    }
   ],
   "source": [
    "# Percent Increase Bonus Activity\n",
    "\n",
    "# Create float variable for original_price\n",
    "Original_Price = 198.87\n",
    "\n",
    "# Create float variable for current_price\n",
    "Current_Price = 254.32\n",
    "\n",
    "# Formulas\n",
    "Increase = round((Current_Price - Original_Price),2)\n",
    "Percent_Increase = round((Increase / Original_Price) * 100,2)\n",
    "\n",
    "\n",
    "# Calculate difference between current_price and original_price\n",
    "\n",
    "print (f\"The increase is ${Increase}\")\n",
    "\n",
    "\n",
    "# Calculate percent_increase\n",
    "\n",
    "print (f\"The precent increase is ${Percent_Increase}\") \n",
    "\n",
    "# Print original_price\n",
    "print(f\"Apple's original stock price was ${Original_Price}\")\n",
    "\n",
    "# Print current_price\n",
    "print(f\"Apples current stock price is ${Current_Price}\")\n",
    "\n",
    "# Print percent_increase to 2 decimal places using string formatting\n",
    "\n"
   ]
  },
  {
   "cell_type": "code",
   "execution_count": null,
   "id": "af03f040-ba97-48fe-96a1-c03e84021a05",
   "metadata": {},
   "outputs": [],
   "source": []
  }
 ],
 "metadata": {
  "kernelspec": {
   "display_name": "Python 3 (ipykernel)",
   "language": "python",
   "name": "python3"
  },
  "language_info": {
   "codemirror_mode": {
    "name": "ipython",
    "version": 3
   },
   "file_extension": ".py",
   "mimetype": "text/x-python",
   "name": "python",
   "nbconvert_exporter": "python",
   "pygments_lexer": "ipython3",
   "version": "3.9.7"
  }
 },
 "nbformat": 4,
 "nbformat_minor": 5
}
